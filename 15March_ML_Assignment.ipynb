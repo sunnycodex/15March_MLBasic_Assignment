{
 "cells": [
  {
   "cell_type": "markdown",
   "id": "15d23b05-ff12-430b-bb4a-c54a26f7eac3",
   "metadata": {},
   "source": [
    "#1\n",
    "\n",
    "Artificial intelligence : Smart application that can perform its own task without any human intervention.\n",
    "\n",
    "Machine learning : Basically machine learning is subset of AI. Machine learning provide statistical tools, visualise, predictive models , forcasting etc.\n",
    "\n",
    "Deep Learning : Deep learning mimic the human brain like object detection, image recognize etc."
   ]
  },
  {
   "cell_type": "markdown",
   "id": "c92fbe53-91be-4647-9447-4b305a9fb463",
   "metadata": {},
   "source": [
    "#2\n",
    "\n",
    "Supervised learning is the types of machine learning in which machines are trained using well \"labelled\" training data, and on basis of that data, machines predict the output. The labelled data means some input data is already tagged with the correct output.\n",
    "Example : Image Recognation, Recomandation System, Spam detection etc.\n",
    "\n"
   ]
  },
  {
   "cell_type": "markdown",
   "id": "281c5488-6689-42f6-9013-a65621d9d8c4",
   "metadata": {},
   "source": [
    "#3\n",
    "\n",
    "Unsupervised learning, also known as unsupervised machine learning, uses machine learning algorithms to analyze and cluster unlabeled datasets. These algorithms discover hidden patterns or data groupings without the need for human intervention.\n",
    "\n",
    "Exaple: dataset containing images of different types of cats and dogs, Social network analysis , Market segmentation ."
   ]
  },
  {
   "cell_type": "markdown",
   "id": "3eb38991-6c5a-4ba7-bf08-318cf69ddfb5",
   "metadata": {},
   "source": [
    "#4\n",
    "\n",
    "AI is the Application that perform task without human intervention.ML is a subset of Al, ML analyse, visualise, predictive models ,Dl comes under Ml,Example of DL image  recognation System. And DS contain all of this."
   ]
  },
  {
   "cell_type": "markdown",
   "id": "80863db8-7aba-4a3a-9011-f2795d423e6a",
   "metadata": {},
   "source": [
    "#5\n",
    "\n",
    "The main difference between supervised, unsupervised, and semi-supervised learning lies in the type of data they use for training:\n",
    "\n",
    "- Supervised Learning: This approach uses labeled datasets for training. These datasets are designed to train or \"supervise\" algorithms into classifying data or predicting outcomes accurately. It can be separated into two types of problems: classification and regression. Classification problems use an algorithm to accurately assign test data into specific categories. Regression uses an algorithm to understand the relationship between dependent and independent variables.\n",
    "\n",
    "- Unsupervised Learning: This approach uses machine learning algorithms to analyze and cluster unlabeled datasets. These algorithms discover hidden patterns in data without the need for human intervention (hence, they are \"unsupervised\"). Unsupervised learning models are used for three main tasks: clustering, association, and dimensionality reduction.\n",
    "\n",
    "- Semi-Supervised Learning: This approach resides between supervised and unsupervised learning. It accepts data that's partially labeled or where the majority of the data lacks labels. The ability to work with limited data is a key benefit of semi-supervised learning, because data scientists spend the bulk of their time cleaning and organizing data."
   ]
  },
  {
   "cell_type": "markdown",
   "id": "437c926c-edd4-4469-ac0c-ebb84ff37029",
   "metadata": {},
   "source": [
    "#6\n",
    "\n",
    "\n",
    "- **Training Set**: This is the actual dataset that we use to train the model. The model sees and learns from this data. The quality and diversity of this data determine the ability of the model to generalize. This data is usually more than 60% of the total data available for the project.\n",
    "\n",
    "- **Validation Set**: This set is used for unbiased evaluation of the model during the training phase. It helps in tuning the parameters (hyperparameters) of the model. It's also used in certain setups like k-fold cross-validation.\n",
    "\n",
    "- **Test Set**: This dataset is independent of the training set, but it should follow a similar probability distribution. It's used as a benchmark to evaluate how well the model, which was trained using the training set, is performing on unseen data. The test set evaluation metric gives an indication of how well the model will perform in real-world scenarios."
   ]
  },
  {
   "cell_type": "markdown",
   "id": "337a9058-886d-4639-9514-72abb74f719b",
   "metadata": {},
   "source": [
    "#7\n",
    "\n",
    "Unsupervised learning can be used in anomaly detection by learning what normal behavior is, and then applying a statistical technique to determine if a specific data point is an anomaly. This kind of anomaly detection technique is able to detect any type of anomaly, including ones which have never been seen before. For example, in credit card fraud detection, unsupervised learning can be used to learn the underlying structure of data and help discover hidden patterns in the absence of labels. It can adapt to newly emerging patterns of fraud as quickly as possible. Techniques like One-Class SVM can be used to identify anomalies as an unsupervised problem (in which training data is not labeled)."
   ]
  },
  {
   "cell_type": "markdown",
   "id": "216a7957-0870-45f1-8c9b-61e58e642e59",
   "metadata": {},
   "source": [
    "#8\n",
    "\n",
    "Supervised learning algorithms: Neural networks, Linear Regresion, Support vector machines,Random forest\n",
    "\n",
    "Unsupervised learning  algorithm: K-means clustering, Hierarchal clustering, Apriori algorithm, Anomaly detection"
   ]
  },
  {
   "cell_type": "code",
   "execution_count": null,
   "id": "3078f7a0-9f36-4dfc-af22-87d02aacbac1",
   "metadata": {},
   "outputs": [],
   "source": []
  }
 ],
 "metadata": {
  "kernelspec": {
   "display_name": "Python 3 (ipykernel)",
   "language": "python",
   "name": "python3"
  },
  "language_info": {
   "codemirror_mode": {
    "name": "ipython",
    "version": 3
   },
   "file_extension": ".py",
   "mimetype": "text/x-python",
   "name": "python",
   "nbconvert_exporter": "python",
   "pygments_lexer": "ipython3",
   "version": "3.10.8"
  }
 },
 "nbformat": 4,
 "nbformat_minor": 5
}
